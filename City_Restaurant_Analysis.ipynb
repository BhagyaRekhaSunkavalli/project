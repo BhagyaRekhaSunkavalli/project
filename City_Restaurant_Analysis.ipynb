{
  "cells": [
    {
      "cell_type": "markdown",
      "metadata": {
        "id": "view-in-github",
        "colab_type": "text"
      },
      "source": [
        "<a href=\"https://colab.research.google.com/github/BhagyaRekhaSunkavalli/project/blob/main/City_Restaurant_Analysis.ipynb\" target=\"_parent\"><img src=\"https://colab.research.google.com/assets/colab-badge.svg\" alt=\"Open In Colab\"/></a>"
      ]
    },
    {
      "cell_type": "code",
      "execution_count": null,
      "metadata": {
        "colab": {
          "base_uri": "https://localhost:8080/"
        },
        "id": "Jb-6xi6xQ64l",
        "outputId": "7d64db04-68af-4b44-cc71-868960f04824"
      },
      "outputs": [
        {
          "output_type": "stream",
          "name": "stdout",
          "text": [
            "--- City with the Most Restaurants ---\n",
            "The city with the highest number of restaurants is 'New Delhi' with 5473 restaurants.\n",
            "\n",
            "--- Average Restaurant Rating per City ---\n",
            "Average ratings for each city (top 10):\n",
            "City\n",
            "Inner City          4.90\n",
            "Quezon City         4.80\n",
            "Makati City         4.65\n",
            "Pasig City          4.63\n",
            "Mandaluyong City    4.62\n",
            "Beechworth          4.60\n",
            "London              4.54\n",
            "Taguig City         4.53\n",
            "Secunderabad        4.50\n",
            "Lincoln             4.50\n",
            "Name: Aggregate rating, dtype: float64\n",
            "\n",
            "\n",
            "--- City with the Highest Average Rating ---\n",
            "The city with the highest average rating is 'Inner City' with an average rating of 4.9.\n",
            "\n"
          ]
        }
      ],
      "source": [
        "import pandas as pd\n",
        "\n",
        "def analyze_restaurant_data(filepath):\n",
        "    \"\"\"\n",
        "    Analyzes restaurant data to find the city with the most restaurants,\n",
        "    calculate the average rating per city, and find the city with the\n",
        "    highest average rating.\n",
        "\n",
        "    Args:\n",
        "        filepath (str): The path to the restaurant dataset CSV file.\n",
        "    \"\"\"\n",
        "    try:\n",
        "        # Load the dataset from the specified CSV file\n",
        "        df = pd.read_csv(filepath)\n",
        "    except FileNotFoundError:\n",
        "        print(f\"Error: The file '{filepath}' was not found.\")\n",
        "        return\n",
        "    except Exception as e:\n",
        "        print(f\"An error occurred while reading the file: {e}\")\n",
        "        return\n",
        "\n",
        "    # --- Task 1: Identify the city with the highest number of restaurants ---\n",
        "    print(\"--- City with the Most Restaurants ---\")\n",
        "    # Count the number of restaurants in each city\n",
        "    city_restaurant_counts = df['City'].value_counts()\n",
        "    # Get the city with the maximum count\n",
        "    city_with_most_restaurants = city_restaurant_counts.idxmax()\n",
        "    highest_count = city_restaurant_counts.max()\n",
        "    print(f\"The city with the highest number of restaurants is '{city_with_most_restaurants}' with {highest_count} restaurants.\\n\")\n",
        "\n",
        "    # --- Task 2: Calculate the average rating for restaurants in each city ---\n",
        "    print(\"--- Average Restaurant Rating per City ---\")\n",
        "    # Group by city and calculate the mean of the 'Aggregate rating'\n",
        "    # We'll filter out cities with 0 ratings to ensure fairness\n",
        "    restaurants_with_rating = df[df['Aggregate rating'] > 0]\n",
        "    average_ratings_by_city = restaurants_with_rating.groupby('City')['Aggregate rating'].mean().round(2)\n",
        "    print(\"Average ratings for each city (top 10):\")\n",
        "    print(average_ratings_by_city.sort_values(ascending=False).head(10))\n",
        "    print(\"\\n\")\n",
        "\n",
        "\n",
        "    # --- Task 3: Determine the city with the highest average rating ---\n",
        "    print(\"--- City with the Highest Average Rating ---\")\n",
        "    if not average_ratings_by_city.empty:\n",
        "        # Get the city with the highest average rating\n",
        "        city_with_highest_avg_rating = average_ratings_by_city.idxmax()\n",
        "        highest_avg_rating = average_ratings_by_city.max()\n",
        "        print(f\"The city with the highest average rating is '{city_with_highest_avg_rating}' with an average rating of {highest_avg_rating}.\\n\")\n",
        "    else:\n",
        "        print(\"Could not determine the city with the highest average rating as no ratings were found.\")\n",
        "\n",
        "\n",
        "if __name__ == \"__main__\":\n",
        "    # The user uploaded 'Dataset .csv'\n",
        "    analyze_restaurant_data('/content/Dataset .csv')"
      ]
    }
  ],
  "metadata": {
    "colab": {
      "provenance": [],
      "include_colab_link": true
    },
    "kernelspec": {
      "display_name": "Python 3",
      "name": "python3"
    }
  },
  "nbformat": 4,
  "nbformat_minor": 0
}